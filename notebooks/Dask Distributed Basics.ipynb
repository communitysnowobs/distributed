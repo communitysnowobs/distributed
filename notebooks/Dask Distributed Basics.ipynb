{
 "cells": [
  {
   "cell_type": "markdown",
   "metadata": {},
   "source": [
    "# Dask Distributed Basics"
   ]
  },
  {
   "cell_type": "code",
   "execution_count": 3,
   "metadata": {},
   "outputs": [],
   "source": [
    "import time\n",
    "import numpy as np\n",
    "from dask.distributed import Client\n",
    "from dask import delayed, compute, array as da\n",
    "import zarr"
   ]
  },
  {
   "cell_type": "markdown",
   "metadata": {},
   "source": [
    "## Initializing the Client\n",
    "Before running any dask operations on a set of threads/processes/workers, we need to connect to or create a distributed scheduler. Remote schedulers can be created using the `dask-scheduler` command, but for simplicity, it is possible to create a local cluster by instantiating a `Client`"
   ]
  },
  {
   "cell_type": "code",
   "execution_count": 4,
   "metadata": {},
   "outputs": [],
   "source": [
    "client = Client()"
   ]
  },
  {
   "cell_type": "markdown",
   "metadata": {},
   "source": [
    "## Running distributed tasks\n",
    "Once the client is instantiated, tasks are automatically submitted to the scheduler, where they are distributed across the set of worker instances. If [bokeh](https://bokeh.pydata.org/en/latest/) is installed on the machine running the cluster, the status of these workers, progress toward completion, and a number of other helpful statistics and graphs can be viewed in the web browser by navigating to http://ip-address-of-scheduler:8787 (8787 is the default port).\n"
   ]
  },
  {
   "cell_type": "markdown",
   "metadata": {},
   "source": [
    "### Running Distributed Tasks using Delayed\n",
    "The `delayed` decorator is one of the simplest ways to run tasks using dask-distributed. Applying the decorator to a function, or wrapping a particular call to the function with `delayed` returns a task, which can be evaluated using `compute`. `compute` automatically connects to the distributed scheduler, serving tasks to each worker. In the following example, each task has been slowed down using `time.sleep`, so that it is easier to see what is going on in the console, which can be found at http://localhost:8787/status in real time."
   ]
  },
  {
   "cell_type": "code",
   "execution_count": 19,
   "metadata": {},
   "outputs": [
    {
     "data": {
      "text/plain": [
       "array([ 1,  2,  3,  4,  5,  6,  7,  8,  9, 10, 11, 12, 13, 14, 15, 16, 17,\n",
       "       18, 19, 20, 21, 22, 23, 24, 25, 26, 27, 28, 29, 30, 31, 32, 33, 34,\n",
       "       35, 36, 37, 38, 39, 40, 41, 42, 43, 44, 45, 46, 47, 48, 49, 50, 51,\n",
       "       52, 53, 54, 55, 56, 57, 58, 59, 60, 61, 62, 63, 64])"
      ]
     },
     "execution_count": 19,
     "metadata": {},
     "output_type": "execute_result"
    }
   ],
   "source": [
    "@delayed\n",
    "def add_one(x):\n",
    "    time.sleep(1)\n",
    "    return x + 1\n",
    "\n",
    "tasks = [add_one(x) for x in range(64)]\n",
    "results = compute(*tasks)\n",
    "display(np.asarray(results))"
   ]
  },
  {
   "cell_type": "markdown",
   "metadata": {},
   "source": [
    "### Running Distributed Tasks using Map / Gather\n",
    "dask-distributed's Client class also provides several useful functions which can be used to distribute tasks. `map` takes a function, and a list of arguments, and maps them into `Future` objects, which can be evaluated later using `gather`. Similar functions exist for individual future objects, including `submit` and `result`. More information on these functions can be found [here](https://distributed.readthedocs.io/en/latest/quickstart.html)."
   ]
  },
  {
   "cell_type": "code",
   "execution_count": 24,
   "metadata": {},
   "outputs": [
    {
     "data": {
      "text/plain": [
       "array([ 1,  2,  3,  4,  5,  6,  7,  8,  9, 10, 11, 12, 13, 14, 15, 16, 17,\n",
       "       18, 19, 20, 21, 22, 23, 24, 25, 26, 27, 28, 29, 30, 31, 32, 33, 34,\n",
       "       35, 36, 37, 38, 39, 40, 41, 42, 43, 44, 45, 46, 47, 48, 49, 50, 51,\n",
       "       52, 53, 54, 55, 56, 57, 58, 59, 60, 61, 62, 63, 64])"
      ]
     },
     "execution_count": 24,
     "metadata": {},
     "output_type": "execute_result"
    }
   ],
   "source": [
    "def add_one(x):\n",
    "    time.sleep(1)\n",
    "    return x + 1\n",
    "\n",
    "tasks = client.map(add_one, range(64))\n",
    "results = client.gather(tasks)\n",
    "display(np.asarray(results))"
   ]
  },
  {
   "cell_type": "markdown",
   "metadata": {},
   "source": [
    "### Writing Data to Zarr using Dask Distributed\n",
    "Dask Array's `to_zarr` method automatically distributes work across the distributed scheduler when present. However, the function can only be used to write an entire zarr array, and cannot change the size of that array."
   ]
  },
  {
   "cell_type": "code",
   "execution_count": 12,
   "metadata": {},
   "outputs": [
    {
     "data": {
      "text/plain": [
       "array([[91., 39., 57., ..., 92., 20., 96.],\n",
       "       [54., 53., 23., ..., 12., 10., 27.],\n",
       "       [89.,  3., 10., ..., 62., 53., 31.],\n",
       "       ...,\n",
       "       [27., 20., 92., ..., 23.,  3., 87.],\n",
       "       [34., 55., 48., ..., 52., 55., 11.],\n",
       "       [34., 33., 49., ..., 36.,  9., 15.]])"
      ]
     },
     "metadata": {},
     "output_type": "display_data"
    }
   ],
   "source": [
    "# Initialize dask array of random integers\n",
    "dask_array = da.random.randint(0,100, size=(128,128,128), chunks = (128,128,128))\n",
    "\n",
    "# Create zarr array in directory store\n",
    "store = zarr.storage.DirectoryStore('./example.zarr')\n",
    "root = zarr.group(store=store, overwrite=True)\n",
    "arr = root.create('array', shape=(128,128,128), chunks = (32,32,32))\n",
    "# Write data to zarr store (distributed)\n",
    "dask_array.to_zarr(arr)\n",
    "\n",
    "# Read beginning of zarr array (should be random)\n",
    "display(arr[0])"
   ]
  },
  {
   "cell_type": "code",
   "execution_count": null,
   "metadata": {},
   "outputs": [],
   "source": []
  }
 ],
 "metadata": {
  "kernelspec": {
   "display_name": "Python 3",
   "language": "python",
   "name": "python3"
  },
  "language_info": {
   "codemirror_mode": {
    "name": "ipython",
    "version": 3
   },
   "file_extension": ".py",
   "mimetype": "text/x-python",
   "name": "python",
   "nbconvert_exporter": "python",
   "pygments_lexer": "ipython3",
   "version": "3.6.5"
  }
 },
 "nbformat": 4,
 "nbformat_minor": 2
}
