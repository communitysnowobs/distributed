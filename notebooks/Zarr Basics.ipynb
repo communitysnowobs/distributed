{
 "cells": [
  {
   "cell_type": "markdown",
   "metadata": {},
   "source": [
    "# Zarr Basics"
   ]
  },
  {
   "cell_type": "code",
   "execution_count": 1,
   "metadata": {},
   "outputs": [],
   "source": [
    "import zarr\n",
    "import dask.array as da"
   ]
  },
  {
   "cell_type": "code",
   "execution_count": 2,
   "metadata": {},
   "outputs": [],
   "source": [
    "# Initializing arrays\n",
    "z = zarr.empty(shape = (1024,1024,1024), chunks = (128,128,128))\n",
    "arr = da.ones(shape=(1024,1024,1024), chunks = (128,128,128))"
   ]
  },
  {
   "cell_type": "markdown",
   "metadata": {},
   "source": [
    "## Writing Data\n",
    "Data can written to dask to zarr by a variety of methods. The most simple is to simply assign your data, whether in the form of a dask or numpy array, to the region of the zarr array that you wish to write to."
   ]
  },
  {
   "cell_type": "code",
   "execution_count": 3,
   "metadata": {},
   "outputs": [
    {
     "data": {
      "text/plain": [
       "<zarr.core.Array (1024, 1024, 1024) float64>"
      ]
     },
     "metadata": {},
     "output_type": "display_data"
    }
   ],
   "source": [
    "z[:] = arr\n",
    "display(z)"
   ]
  },
  {
   "cell_type": "markdown",
   "metadata": {},
   "source": [
    "## Parallel writes\n",
    "When writing from a dask array, it is possible to use the `to_zarr` method, which can be parallelized and distributed across multiple threads/proccesses/workers. This can be especially useful when the data is being written to some remote location, such as an S3 bucket, or Google Cloud Storage. As of now, however, this can only be used when the entire array is being written at once (i.e. not with appends or updates)."
   ]
  },
  {
   "cell_type": "code",
   "execution_count": 4,
   "metadata": {},
   "outputs": [
    {
     "data": {
      "text/plain": [
       "<zarr.core.Array (1024, 1024, 1024) float64>"
      ]
     },
     "metadata": {},
     "output_type": "display_data"
    }
   ],
   "source": [
    "arr.to_zarr(z)\n",
    "display(z)"
   ]
  },
  {
   "cell_type": "markdown",
   "metadata": {},
   "source": [
    "## Appending Data\n",
    "Appending data to a zarr array is can be done with the `append` method. It is important to specify the axis that data is being appended along, as this operation will reshape the array accordingly. The shape of the resulting array is returned from the function."
   ]
  },
  {
   "cell_type": "code",
   "execution_count": 5,
   "metadata": {},
   "outputs": [
    {
     "data": {
      "text/plain": [
       "(1025, 1024, 1024)"
      ]
     },
     "execution_count": 5,
     "metadata": {},
     "output_type": "execute_result"
    }
   ],
   "source": [
    "arr = da.ones(shape=(1,1024,1024), chunks = (128,128,128))\n",
    "z.append(arr)"
   ]
  },
  {
   "cell_type": "markdown",
   "metadata": {},
   "source": [
    "## Persistent Data\n",
    "Zarr exposes a number of methods for writing and reading persistent arrays. Data can be written to and retrieved from a directory on the local filesystem, a variety of databases, and cloud storage containers. Operations on these arrays are directly reflected in these storage systems (no need for saving, etc.)."
   ]
  },
  {
   "cell_type": "markdown",
   "metadata": {},
   "source": [
    "### Writing to Directory Store Example"
   ]
  },
  {
   "cell_type": "code",
   "execution_count": 6,
   "metadata": {},
   "outputs": [],
   "source": [
    "# Open Zarr store\n",
    "store = zarr.storage.DirectoryStore('./example.zarr')\n",
    "# Retrieve group object from store. \n",
    "# Stores can store several arrays in groups, which can be arranged in heirarchies\n",
    "# In this case, we simply store our array under the root group\n",
    "root = zarr.group(store=store, overwrite=True)\n",
    "# Create an array in root group of store\n",
    "arr = root.create('array', shape=(128,128,128), chunks = (32,32,32))\n",
    "# Fill array with ones\n",
    "arr[:] = zarr.ones(shape=(128,128,128), chunks = (32,32,32))"
   ]
  },
  {
   "cell_type": "markdown",
   "metadata": {},
   "source": [
    "### Reading from Directory Store Example"
   ]
  },
  {
   "cell_type": "code",
   "execution_count": 7,
   "metadata": {},
   "outputs": [
    {
     "data": {
      "text/plain": [
       "<zarr.core.Array '/array' (128, 128, 128) float64>"
      ]
     },
     "metadata": {},
     "output_type": "display_data"
    }
   ],
   "source": [
    "# Open Zarr store\n",
    "store = zarr.storage.DirectoryStore('./example.zarr')\n",
    "# Retrieve group objects\n",
    "root = zarr.group(store=store)\n",
    "# Retrieve array object\n",
    "arr = root['array']\n",
    "# Display contents of array\n",
    "display(arr)"
   ]
  },
  {
   "cell_type": "code",
   "execution_count": null,
   "metadata": {},
   "outputs": [],
   "source": []
  }
 ],
 "metadata": {
  "kernelspec": {
   "display_name": "Python 3",
   "language": "python",
   "name": "python3"
  },
  "language_info": {
   "codemirror_mode": {
    "name": "ipython",
    "version": 3
   },
   "file_extension": ".py",
   "mimetype": "text/x-python",
   "name": "python",
   "nbconvert_exporter": "python",
   "pygments_lexer": "ipython3",
   "version": "3.6.5"
  }
 },
 "nbformat": 4,
 "nbformat_minor": 2
}
